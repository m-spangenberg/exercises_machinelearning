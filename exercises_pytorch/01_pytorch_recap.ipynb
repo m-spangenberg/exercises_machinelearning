{
 "cells": [
  {
   "cell_type": "markdown",
   "id": "9325c51b",
   "metadata": {},
   "source": [
    "## Workflow to GPU\n",
    "\n",
    "A quick recap of the concept explored with PyTorch workflows ported to the GPU."
   ]
  },
  {
   "cell_type": "code",
   "execution_count": 452,
   "id": "a44026db",
   "metadata": {},
   "outputs": [
    {
     "name": "stdout",
     "output_type": "stream",
     "text": [
      "PyTorch version: 1.12.1+cu116\n",
      "PyTorch using: cuda\n",
      "Epoch: 0 | Test: 1.1365989446640015 | Test Loss: 1.9441488981246948\n",
      "Epoch: 200 | Test: 0.20679521560668945 | Test Loss: 0.5034179091453552\n",
      "Epoch: 400 | Test: 0.13770270347595215 | Test Loss: 0.3214869201183319\n",
      "Epoch: 600 | Test: 0.06901755183935165 | Test Loss: 0.16084706783294678\n",
      "Epoch: 800 | Test: 0.003528656903654337 | Test Loss: 0.006962096784263849\n"
     ]
    }
   ],
   "source": [
    "# Import libraries and packages\n",
    "import torch\n",
    "import numpy as np\n",
    "import matplotlib.pyplot as plt\n",
    "from pathlib import Path\n",
    "\n",
    "# Check our PyTorch version\n",
    "print(f\"PyTorch version: {torch.__version__}\")\n",
    "\n",
    "# Set up GPU access, else default to CPU.\n",
    "device = \"cuda\" if torch.cuda.is_available() else \"cpu\"\n",
    "print(f\"PyTorch using: {device}\")\n",
    "\n",
    "# Create some dummy data\n",
    "weight = 0.7\n",
    "bias = 0.3\n",
    "start = 0\n",
    "end = 1\n",
    "step = 0.02\n",
    "\n",
    "# Create features and labels tensors (our X and y)\n",
    "X = torch.arange(start, end, step).unsqueeze(dim=1)\n",
    "y = weight * X + bias\n",
    "\n",
    "# Create a training-testing split\n",
    "train_split = int(0.8 * len(X))\n",
    "X_train, y_train = X[:train_split], y[:train_split]\n",
    "X_test, y_test = X[train_split:], y[train_split:]\n",
    "\n",
    "# Create  plotting function to check our model\n",
    "def plotPredictions(train_data=X_train,\n",
    "                    train_labels=y_train,\n",
    "                    test_data=X_test,\n",
    "                    test_labels=y_test,\n",
    "                    predictions=None):\n",
    "    plt.figure(figsize=(5,3))\n",
    "    \n",
    "    plt.scatter(train_data,train_labels, c=\"b\", s=4, label=\"Training Data\")\n",
    "    \n",
    "    plt.scatter(test_data, test_labels, c=\"g\", s=4, label=\"Testing Data\")\n",
    "    \n",
    "    if predictions is not None:\n",
    "        plt.scatter(test_data, predictions, c=\"r\", s=4, label=\"Predictions\")\n",
    "        \n",
    "    plt.legend(prop={\"size\": 12})\n",
    "\n",
    "# Linear regression model in pytorch that uses Linear Layer\n",
    "class LinearRegressionV2(torch.nn.Module):\n",
    "    def __init__(self):\n",
    "        super().__init__()\n",
    "        # initialize model parameters\n",
    "        self.linear_layer = torch.nn.Linear(in_features=1, out_features=1)\n",
    "        \n",
    "    # defines the forward computation needed to be done\n",
    "    # linear regression in this case\n",
    "    def forward(self, x: torch.Tensor) -> torch.Tensor:\n",
    "        return self.linear_layer(x)\n",
    "    \n",
    "# A random seed\n",
    "torch.manual_seed(\"1234\")\n",
    "\n",
    "# Create an instance of our model\n",
    "model_1 = LinearRegressionV2()\n",
    "\n",
    "# Create Mean Absolute Error Loss Function\n",
    "loss_function = torch.nn.L1Loss()\n",
    "\n",
    "# Create Optimizer (Stochastic Gradient Descent), Learning Rate Hyperparameter\n",
    "optimizer = torch.optim.SGD(params=model_1.parameters(), lr=0.01)\n",
    "\n",
    "# Send data to target device\n",
    "X_train = X_train.to(device)\n",
    "y_train = y_train.to(device)\n",
    "X_test = X_test.to(device)\n",
    "y_test = y_test.to(device)\n",
    "\n",
    "# Send model to target device\n",
    "model_1.to(device)\n",
    "\n",
    "# Set number of times to pass data through network\n",
    "EPOCHS = 1000\n",
    "\n",
    "# Training Loop\n",
    "for epoch in range(EPOCHS):\n",
    "    # enable training mode and track gradients on valid parameters\n",
    "    model_1.train()  \n",
    "    \n",
    "    # forward propagation\n",
    "    y_predictions = model_1(X_train)\n",
    "    \n",
    "    # calculate loss\n",
    "    loss = loss_function(y_predictions, y_train)\n",
    "    \n",
    "    # zero out the optimizer gradients\n",
    "    optimizer.zero_grad()\n",
    "    \n",
    "    # back propagation, compute gradient for every parameter\n",
    "    loss.backward()\n",
    "    \n",
    "    # gradient descent optimizer\n",
    "    optimizer.step()\n",
    "    \n",
    "    # Testing Loop\n",
    "    # turn off gradient tracking\n",
    "    model_1.eval()\n",
    "    with torch.inference_mode():\n",
    "        # forward pass\n",
    "        test_pred = model_1(X_test)\n",
    "        # loss pass\n",
    "        test_loss = loss_function(test_pred, y_test)\n",
    "    \n",
    "    # Check learning rate, epoch count performance\n",
    "    if epoch % 200 == 0:\n",
    "        epoch_count.append(epoch)\n",
    "        train_loss_values.append(loss)\n",
    "        test_loss_values.append(test_loss)\n",
    "        print(f\"Epoch: {epoch} | Test: {loss} | Test Loss: {test_loss}\")"
   ]
  },
  {
   "cell_type": "code",
   "execution_count": 453,
   "id": "765f29a9",
   "metadata": {},
   "outputs": [
    {
     "data": {
      "text/plain": [
       "OrderedDict([('linear_layer.weight', tensor([[0.6940]], device='cuda:0')),\n",
       "             ('linear_layer.bias', tensor([0.2988], device='cuda:0'))])"
      ]
     },
     "execution_count": 453,
     "metadata": {},
     "output_type": "execute_result"
    }
   ],
   "source": [
    "model_1.state_dict()"
   ]
  },
  {
   "cell_type": "code",
   "execution_count": 455,
   "id": "c9998a7e",
   "metadata": {},
   "outputs": [
    {
     "data": {
      "image/png": "[encoded data removed]",
      "text/plain": [
       "<Figure size 500x300 with 1 Axes>"
      ]
     },
     "metadata": {},
     "output_type": "display_data"
    }
   ],
   "source": [
    "# Evaluate the model on a batch of test data\n",
    "model_1.eval()\n",
    "with torch.inference_mode():\n",
    "    y_predictions = model_1(X_test)\n",
    "\n",
    "# Use plot function, remember to change GPU tensor to CPU\n",
    "plotPredictions(predictions=y_predictions.cpu())"
   ]
  },
  {
   "cell_type": "code",
   "execution_count": 459,
   "id": "23f21cf1",
   "metadata": {},
   "outputs": [
    {
     "data": {
      "text/plain": [
       "OrderedDict([('linear_layer.weight', tensor([[0.6940]])),\n",
       "             ('linear_layer.bias', tensor([0.2988]))])"
      ]
     },
     "execution_count": 459,
     "metadata": {},
     "output_type": "execute_result"
    }
   ],
   "source": [
    "# Save Model\n",
    "model_path = Path(\"models\")\n",
    "model_path.mkdir(parents=True, exist_ok=True)\n",
    "model_name = \"01_pytorch_recap_model_1.pth\"\n",
    "model_save_path = model_path / model_name\n",
    "torch.save(obj=model_1.state_dict(), f=model_save_path)\n",
    "\n",
    "# Create a new intance of our LinearRegressionV2 class\n",
    "loaded_model_1 = LinearRegressionV2()\n",
    "\n",
    "# Load Model\n",
    "loaded_model_1.load_state_dict(torch.load(f=model_save_path))\n",
    "\n",
    "# Check that our model is loaded correctly into our new instance\n",
    "loaded_model_1.state_dict()"
   ]
  }
 ],
 "metadata": {
  "kernelspec": {
   "display_name": "Python 3 (ipykernel)",
   "language": "python",
   "name": "python3"
  },
  "language_info": {
   "codemirror_mode": {
    "name": "ipython",
    "version": 3
   },
   "file_extension": ".py",
   "mimetype": "text/x-python",
   "name": "python",
   "nbconvert_exporter": "python",
   "pygments_lexer": "ipython3",
   "version": "3.10.6"
  }
 },
 "nbformat": 4,
 "nbformat_minor": 5
}
