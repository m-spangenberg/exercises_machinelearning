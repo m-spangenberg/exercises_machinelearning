{
 "cells": [
  {
   "cell_type": "markdown",
   "metadata": {},
   "source": [
    "# PyTorch Fundamentals"
   ]
  },
  {
   "cell_type": "markdown",
   "metadata": {},
   "source": [
    "Let's quickly check to see if PyTorch is available and working with our GPU. It's possible your CUDA version is too recent, meaning PyTorch won't work with your GPU, you can drop to CPU only if reverting your CUDA drivers to an older version is not possible. Consider using [Google Colab](https://colab.research.google.com/) if all else fails."
   ]
  },
  {
   "cell_type": "code",
   "execution_count": null,
   "metadata": {},
   "outputs": [],
   "source": [
    "import torch\n",
    "x = torch.rand(5, 3)\n",
    "print(x)\n",
    "torch.cuda.is_available()"
   ]
  },
  {
   "cell_type": "markdown",
   "metadata": {},
   "source": [
    "## Introduction to Tensors\n",
    "\n",
    "Tensors are considered the building blocks of neural networks, and deep learning in general. Even though most references in PyTorch are to just '[tensors](https://pytorch.org/docs/stable/tensors.html)', there exists various kinds of tensors. All a tensor is in this context is \"a multi-dimensional matrix containing elements of a single data type\". We instantiate tensors using `torch.Tensor`."
   ]
  },
  {
   "cell_type": "code",
   "execution_count": null,
   "metadata": {},
   "outputs": [],
   "source": [
    "import torch\n",
    "import pandas as pd\n",
    "import matplotlib as mpl\n",
    "import numpy as np"
   ]
  },
  {
   "cell_type": "markdown",
   "metadata": {},
   "source": [
    "### Scalars\n",
    "\n",
    "A tensor being comprised of a scalar simply means it is made of a real number and not a vector, and therefore exists in 0 dimensions. A dot, if you will.\n",
    "\n",
    "### Vectors\n",
    "\n",
    "A vector is a pair of values that represent an arrow with a length and direction, with the arrows length being its magnitude and its direction being its orientation in what is called [Vector Space](https://www.youtube.com/watch?v=ozwodzD5bJM). A vector with only 1 pair of values is considered 1 dimensional, as it only represent 1 direction in Vector Space.\n",
    "\n",
    "### Matrices\n",
    "\n",
    "A matrix is a set of numbers arranged in rows and columns to form a rectangular array and the size of this matrix is its size in element count in two dimensions."
   ]
  },
  {
   "cell_type": "code",
   "execution_count": null,
   "metadata": {},
   "outputs": [],
   "source": [
    "# Scalar - a real number rather than a vector\n",
    "scalar = torch.Tensor(8)\n",
    "# return scalar item as a python integer\n",
    "scalar.item()"
   ]
  },
  {
   "cell_type": "code",
   "execution_count": null,
   "metadata": {},
   "outputs": [],
   "source": [
    "# Vector - an object that has both a magnitude and a direction\n",
    "vector = torch.Tensor([8,8])\n",
    "# return the dimensionality of the vector\n",
    "vector.ndim\n",
    "# return the size of the vector matrix\n",
    "vector.shape"
   ]
  },
  {
   "cell_type": "code",
   "execution_count": null,
   "metadata": {},
   "outputs": [],
   "source": [
    "# MATRIX\n",
    "MATRIX = torch.Tensor([8, 8],[9, 9])\n",
    "# return the dimensionality of our matrix\n",
    "MATRIX.ndim\n",
    "# return the size of our matrix\n",
    "MATRIX.shape"
   ]
  }
 ],
 "metadata": {
  "kernelspec": {
   "display_name": "Python 3.9.9 ('machinelearning-cPHCBFOy')",
   "language": "python",
   "name": "python3"
  },
  "language_info": {
   "name": "python",
   "version": "3.9.9"
  },
  "orig_nbformat": 4,
  "vscode": {
   "interpreter": {
    "hash": "68e181086f55a8390b1f5ab0e415eb5c3167df2e6474d118b3e7b7d80e5e763c"
   }
  }
 },
 "nbformat": 4,
 "nbformat_minor": 2
}
