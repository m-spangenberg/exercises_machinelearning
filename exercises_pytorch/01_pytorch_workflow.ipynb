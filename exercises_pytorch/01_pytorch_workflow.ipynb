{
 "cells": [
  {
   "cell_type": "markdown",
   "id": "e4ef8440",
   "metadata": {},
   "source": [
    "## Workflow Example\n",
    "\n",
    "Below is a simple workflow that applies all the basic principles needed to create a neural network that makes use of forward and backward propagation."
   ]
  },
  {
   "cell_type": "code",
   "execution_count": 25,
   "id": "e55f17c3",
   "metadata": {},
   "outputs": [
    {
     "data": {
      "text/plain": [
       "'1.12.1+cu116'"
      ]
     },
     "execution_count": 25,
     "metadata": {},
     "output_type": "execute_result"
    }
   ],
   "source": [
    "import torch\n",
    "import numpy as np\n",
    "import matplotlib.pyplot as plt\n",
    "\n",
    "torch.__version__"
   ]
  },
  {
   "cell_type": "markdown",
   "id": "c9ba3d2f",
   "metadata": {},
   "source": [
    "### Preprocessing: Create and Load Data"
   ]
  },
  {
   "cell_type": "code",
   "execution_count": 18,
   "id": "035b9b04",
   "metadata": {},
   "outputs": [],
   "source": [
    "# our linear regression formula with some known parameters\n",
    "weight = 0.7\n",
    "bias = 0.3\n",
    "start = 0\n",
    "end = 1\n",
    "step = 0.02\n",
    "X = torch.arange(start, end, step).unsqueeze(dim=1)\n",
    "y = weight * X + bias"
   ]
  },
  {
   "cell_type": "markdown",
   "id": "4822e105",
   "metadata": {},
   "source": [
    "### Preprocessing: Partition Data with a Train-Test Split"
   ]
  },
  {
   "cell_type": "code",
   "execution_count": 19,
   "id": "16ac986f",
   "metadata": {},
   "outputs": [
    {
     "data": {
      "text/plain": [
       "(40, 40, 10, 10)"
      ]
     },
     "execution_count": 19,
     "metadata": {},
     "output_type": "execute_result"
    }
   ],
   "source": [
    "# create a training-testing split\n",
    "train_split = int(0.8 * len(X))\n",
    "X_train, y_train = X[:train_split], y[:train_split]\n",
    "X_test, y_test = X[train_split:], y[train_split:]\n",
    "\n",
    "len(X_train), len(y_train), len(X_test), len(y_test)"
   ]
  },
  {
   "cell_type": "markdown",
   "id": "0e500366",
   "metadata": {},
   "source": [
    "### Visualize Train-Test Split"
   ]
  },
  {
   "cell_type": "code",
   "execution_count": 20,
   "id": "2bff8557",
   "metadata": {},
   "outputs": [],
   "source": [
    "def plotPredictions(train_data=X_train, \n",
    "                    train_labels=y_train,\n",
    "                    test_data=X_test,\n",
    "                    test_labels=y_test,\n",
    "                    predictions=None):\n",
    "    \"\"\"Plot our training data, test data and compare predictions\"\"\"\n",
    "    plt.figure(figsize=(10,7))\n",
    "    \n",
    "    plt.scatter(train_data,train_labels, c=\"b\", s=4, label=\"Training Data\")\n",
    "    \n",
    "    plt.scatter(test_data, test_labels, c=\"g\", s=4, label=\"Testing Data\")\n",
    "    \n",
    "    if predictions is not None:\n",
    "        plt.scatter(test_data, predictions, c=\"r\", s=4, label=\"Predictions\")\n",
    "        \n",
    "    plt.legend(prop={\"size\": 14})"
   ]
  },
  {
   "cell_type": "code",
   "execution_count": null,
   "id": "53063eb4",
   "metadata": {
    "scrolled": false
   },
   "outputs": [],
   "source": [
    "plotPredictions()"
   ]
  },
  {
   "cell_type": "markdown",
   "id": "31323b2f",
   "metadata": {},
   "source": [
    "### Build Model\n",
    "\n",
    "* `torch.nn`\n",
    "* `torch.nn.Parameter` - parameters our model should learn\n",
    "* `torch.nn.Module` - base class for all neural network modules\n",
    "* `torch.optim` - where all the parameter optimizer algorithms are located\n",
    "\n",
    "It's worth remembering that all nn.Module sub-classes require us to overwrite the forward() method in order to dicate what will happen during the forward computation in our model."
   ]
  },
  {
   "cell_type": "code",
   "execution_count": 37,
   "id": "683874a1",
   "metadata": {},
   "outputs": [],
   "source": [
    "# A basic linear regression model in pytorch\n",
    "class BasicLinearRegressionModel(torch.nn.Module):\n",
    "    def __init__(self):\n",
    "        super().__init__()\n",
    "        # initialize model parameters\n",
    "        self.weights = torch.nn.Parameter(torch.randn(1, requires_grad=True, dtype=torch.float))\n",
    "        self.bias = torch.nn.Parameter(torch.randn(1, requires_grad=True, dtype=torch.float))\n",
    "        \n",
    "    # defines the forward computation needed to be done\n",
    "    # linear regression in this case\n",
    "    def forward(self, x: torch.Tensor) -> torch.Tensor:\n",
    "        return self.weights * x + self.bias"
   ]
  },
  {
   "cell_type": "markdown",
   "id": "e6f3b323",
   "metadata": {},
   "source": [
    "### Train Model"
   ]
  },
  {
   "cell_type": "code",
   "execution_count": 68,
   "id": "38eab69c",
   "metadata": {},
   "outputs": [
    {
     "data": {
      "text/plain": [
       "[Parameter containing:\n",
       " tensor([0.1262], requires_grad=True),\n",
       " Parameter containing:\n",
       " tensor([0.6109], requires_grad=True)]"
      ]
     },
     "execution_count": 68,
     "metadata": {},
     "output_type": "execute_result"
    }
   ],
   "source": [
    "# A random seed\n",
    "torch.manual_seed(\"848\")\n",
    "\n",
    "# Create an instance of our model\n",
    "model_0 = BasicLinearRegressionModel()\n",
    "\n",
    "# Take a look at the model's parameters\n",
    "list(model_0.state_dict())\n",
    "list(model_0.parameters())"
   ]
  },
  {
   "cell_type": "markdown",
   "id": "fcf77030",
   "metadata": {},
   "source": [
    "### Model Predictions\n",
    "\n",
    "If we try to make some preliminary predictions, we'll see that the model does poorly, this is the case because it has been freshly instantiated with random values, and hasn't undergone any training.\n",
    "\n",
    "* `torch.inference_mode()`\n",
    "\n",
    "Note: disables gradient tracking so we can make a prediction, newer version of `torch.no_grad`."
   ]
  },
  {
   "cell_type": "code",
   "execution_count": 69,
   "id": "21e31aec",
   "metadata": {},
   "outputs": [
    {
     "data": {
      "text/plain": [
       "tensor([[0.7119],\n",
       "        [0.7144],\n",
       "        [0.7169],\n",
       "        [0.7194],\n",
       "        [0.7220],\n",
       "        [0.7245],\n",
       "        [0.7270],\n",
       "        [0.7295],\n",
       "        [0.7321],\n",
       "        [0.7346]])"
      ]
     },
     "execution_count": 69,
     "metadata": {},
     "output_type": "execute_result"
    }
   ],
   "source": [
    "with torch.inference_mode():\n",
    "    y_predictions = model_0(X_test)\n",
    "\n",
    "y_predictions"
   ]
  },
  {
   "cell_type": "code",
   "execution_count": 101,
   "id": "f156d162",
   "metadata": {},
   "outputs": [
    {
     "data": {
      "image/png": "[encoded data removed]",
      "text/plain": [
       "<Figure size 1000x700 with 1 Axes>"
      ]
     },
     "metadata": {},
     "output_type": "display_data"
    }
   ],
   "source": [
    "plotPredictions(predictions=y_predicates)"
   ]
  },
  {
   "cell_type": "markdown",
   "id": "c0b5c0c9",
   "metadata": {},
   "source": [
    "### Loss Functions and Optimizer"
   ]
  },
  {
   "cell_type": "code",
   "execution_count": 106,
   "id": "e8ca0c80",
   "metadata": {},
   "outputs": [],
   "source": [
    "# Create Mean Absolute Error Loss Function\n",
    "MAE_loss = torch.nn.L1Loss()\n",
    "\n",
    "# Create Optimizer (Stochastic Gradient Descent), Learning Rate Hyperparameter\n",
    "optimizer = torch.optim.SGD(params=model_0.parameters(), lr=0.001)"
   ]
  },
  {
   "cell_type": "markdown",
   "id": "c1a90ff3",
   "metadata": {},
   "source": [
    "### Training Loop\n",
    "\n",
    "    a. forward propagation\n",
    "    b. calculate loss (forward prop. vs ground truth)\n",
    "    c. optimizer (set gradients to zero for every mini-batch)\n",
    "    d. backpropagation (new parameter gradient based on loss)\n",
    "    e. optimizer (gradient descent)"
   ]
  },
  {
   "cell_type": "code",
   "execution_count": 111,
   "id": "8d35c5cd",
   "metadata": {},
   "outputs": [],
   "source": [
    "# Build a training loop\n",
    "\n",
    "EPOCHS = 2500\n",
    "\n",
    "# a. loop through data\n",
    "for epoch in range(EPOCHS):\n",
    "    # enable training mode and track gradients on valid parameters\n",
    "    model_0.train()  \n",
    "    \n",
    "    # a. forward propagation (our \"forward()\" method)\n",
    "    y_predictions = model_0(X_train)\n",
    "    \n",
    "    # b. calculate loss\n",
    "    loss = MAE_loss(y_predictions, y_train)\n",
    "    \n",
    "    # c. zero_grad optimizer (zero out the optimizer gradients)\n",
    "    optimizer.zero_grad()\n",
    "    \n",
    "    # d. back propagation on loss function (compute gradient for every parameter)\n",
    "    loss.backward()\n",
    "    \n",
    "    # e. gradient descent optimizer (update parameters with new gradients)\n",
    "    optimizer.step()\n",
    "    \n",
    "    # Testing\n",
    "    # turn off gradient tracking\n",
    "    model_0.eval()\n",
    "    \n",
    "    with torch.inference_mode():\n",
    "        \n",
    "    "
   ]
  },
  {
   "cell_type": "code",
   "execution_count": 112,
   "id": "9c0ec653",
   "metadata": {},
   "outputs": [
    {
     "name": "stdout",
     "output_type": "stream",
     "text": [
      "Loss:0.0004486747202463448\n"
     ]
    }
   ],
   "source": [
    "print(f\"Loss:{loss}\")"
   ]
  },
  {
   "cell_type": "code",
   "execution_count": 113,
   "id": "28f3c24f",
   "metadata": {},
   "outputs": [
    {
     "name": "stdout",
     "output_type": "stream",
     "text": [
      "OrderedDict([('weights', tensor([0.6992])), ('bias', tensor([0.2996]))])\n"
     ]
    }
   ],
   "source": [
    "print(model_0.state_dict())"
   ]
  },
  {
   "cell_type": "code",
   "execution_count": 114,
   "id": "6d48b78c",
   "metadata": {},
   "outputs": [
    {
     "data": {
      "image/png": "[encoded data removed]",
      "text/plain": [
       "<Figure size 1000x700 with 1 Axes>"
      ]
     },
     "metadata": {},
     "output_type": "display_data"
    }
   ],
   "source": [
    "with torch.inference_mode():\n",
    "    y_pred_new = model_0(X_test)\n",
    "    \n",
    "plotPredictions(predictions=y_pred_new)"
   ]
  },
  {
   "cell_type": "markdown",
   "id": "f873597b",
   "metadata": {},
   "source": [
    "### Testing Loop"
   ]
  }
 ],
 "metadata": {
  "kernelspec": {
   "display_name": "Python 3 (ipykernel)",
   "language": "python",
   "name": "python3"
  },
  "language_info": {
   "codemirror_mode": {
    "name": "ipython",
    "version": 3
   },
   "file_extension": ".py",
   "mimetype": "text/x-python",
   "name": "python",
   "nbconvert_exporter": "python",
   "pygments_lexer": "ipython3",
   "version": "3.10.6"
  }
 },
 "nbformat": 4,
 "nbformat_minor": 5
}
