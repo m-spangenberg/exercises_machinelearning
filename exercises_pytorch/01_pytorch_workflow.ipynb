{
 "cells": [
  {
   "cell_type": "markdown",
   "id": "9325c51b",
   "metadata": {},
   "source": [
    "## Workflow Example\n",
    "\n",
    "Below is a simple workflow that applies all the basic principles needed to create a neural network that makes use of forward and backward propagation."
   ]
  },
  {
   "cell_type": "code",
   "execution_count": 373,
   "id": "a44026db",
   "metadata": {},
   "outputs": [
    {
     "data": {
      "text/plain": [
       "'1.12.1+cu116'"
      ]
     },
     "execution_count": 373,
     "metadata": {},
     "output_type": "execute_result"
    }
   ],
   "source": [
    "import torch\n",
    "import numpy as np\n",
    "import matplotlib.pyplot as plt\n",
    "\n",
    "torch.__version__"
   ]
  },
  {
   "cell_type": "markdown",
   "id": "cc3d9106",
   "metadata": {},
   "source": [
    "### Preprocessing: Create and Load Data"
   ]
  },
  {
   "cell_type": "code",
   "execution_count": 374,
   "id": "1fdc08e7",
   "metadata": {},
   "outputs": [],
   "source": [
    "# our linear regression formula with some known parameters\n",
    "weight = 0.7\n",
    "bias = 0.3\n",
    "start = 0\n",
    "end = 1\n",
    "step = 0.02\n",
    "X = torch.arange(start, end, step).unsqueeze(dim=1)\n",
    "y = weight * X + bias"
   ]
  },
  {
   "cell_type": "markdown",
   "id": "e2e9e63a",
   "metadata": {},
   "source": [
    "### Preprocessing: Partition Data with a Train-Test Split"
   ]
  },
  {
   "cell_type": "code",
   "execution_count": 375,
   "id": "105111da",
   "metadata": {},
   "outputs": [
    {
     "data": {
      "text/plain": [
       "(40, 40, 10, 10)"
      ]
     },
     "execution_count": 375,
     "metadata": {},
     "output_type": "execute_result"
    }
   ],
   "source": [
    "# create a training-testing split\n",
    "train_split = int(0.8 * len(X))\n",
    "X_train, y_train = X[:train_split], y[:train_split]\n",
    "X_test, y_test = X[train_split:], y[train_split:]\n",
    "\n",
    "len(X_train), len(y_train), len(X_test), len(y_test)"
   ]
  },
  {
   "cell_type": "markdown",
   "id": "aa67921c",
   "metadata": {},
   "source": [
    "### Visualize Train-Test Split"
   ]
  },
  {
   "cell_type": "code",
   "execution_count": 376,
   "id": "dcb7bf44",
   "metadata": {},
   "outputs": [],
   "source": [
    "def plotPredictions(train_data=X_train, \n",
    "                    train_labels=y_train,\n",
    "                    test_data=X_test,\n",
    "                    test_labels=y_test,\n",
    "                    predictions=None):\n",
    "    \"\"\"Plot our training data, test data and compare predictions\"\"\"\n",
    "    plt.figure(figsize=(10,7))\n",
    "    \n",
    "    plt.scatter(train_data,train_labels, c=\"b\", s=4, label=\"Training Data\")\n",
    "    \n",
    "    plt.scatter(test_data, test_labels, c=\"g\", s=4, label=\"Testing Data\")\n",
    "    \n",
    "    if predictions is not None:\n",
    "        plt.scatter(test_data, predictions, c=\"r\", s=4, label=\"Predictions\")\n",
    "        \n",
    "    plt.legend(prop={\"size\": 14})"
   ]
  },
  {
   "cell_type": "code",
   "execution_count": 377,
   "id": "20933812",
   "metadata": {
    "scrolled": false
   },
   "outputs": [
    {
     "data": {
      "image/png": "[encoded data removed]",
      "text/plain": [
       "<Figure size 1000x700 with 1 Axes>"
      ]
     },
     "metadata": {},
     "output_type": "display_data"
    }
   ],
   "source": [
    "plotPredictions()"
   ]
  },
  {
   "cell_type": "markdown",
   "id": "1404e760",
   "metadata": {},
   "source": [
    "### Build Model\n",
    "\n",
    "* `torch.nn`\n",
    "* `torch.nn.Parameter` - parameters our model should learn\n",
    "* `torch.nn.Module` - base class for all neural network modules\n",
    "* `torch.optim` - where all the parameter optimizer algorithms are located\n",
    "\n",
    "It's worth remembering that all nn.Module sub-classes require us to overwrite the forward() method in order to dicate what will happen during the forward computation in our model."
   ]
  },
  {
   "cell_type": "code",
   "execution_count": 378,
   "id": "203e768f",
   "metadata": {},
   "outputs": [],
   "source": [
    "# A basic linear regression model in pytorch\n",
    "class BasicLinearRegressionModel(torch.nn.Module):\n",
    "    def __init__(self):\n",
    "        super().__init__()\n",
    "        # initialize model parameters\n",
    "        self.weights = torch.nn.Parameter(torch.randn(1, requires_grad=True, dtype=torch.float))\n",
    "        self.bias = torch.nn.Parameter(torch.randn(1, requires_grad=True, dtype=torch.float))\n",
    "        \n",
    "    # defines the forward computation needed to be done\n",
    "    # linear regression in this case\n",
    "    def forward(self, x: torch.Tensor) -> torch.Tensor:\n",
    "        return self.weights * x + self.bias"
   ]
  },
  {
   "cell_type": "markdown",
   "id": "39ca5e88",
   "metadata": {},
   "source": [
    "### Train Model"
   ]
  },
  {
   "cell_type": "code",
   "execution_count": 379,
   "id": "f0ffd388",
   "metadata": {},
   "outputs": [
    {
     "data": {
      "text/plain": [
       "[Parameter containing:\n",
       " tensor([0.1262], requires_grad=True),\n",
       " Parameter containing:\n",
       " tensor([0.6109], requires_grad=True)]"
      ]
     },
     "execution_count": 379,
     "metadata": {},
     "output_type": "execute_result"
    }
   ],
   "source": [
    "# A random seed\n",
    "torch.manual_seed(\"848\")\n",
    "\n",
    "# Create an instance of our model\n",
    "model_0 = BasicLinearRegressionModel()\n",
    "\n",
    "# Take a look at the model's parameters\n",
    "list(model_0.state_dict())\n",
    "list(model_0.parameters())"
   ]
  },
  {
   "cell_type": "markdown",
   "id": "b4750e28",
   "metadata": {},
   "source": [
    "### Model Predictions\n",
    "\n",
    "If we try to make some preliminary predictions, we'll see that the model does poorly, this is the case because it has been freshly instantiated with random values, and hasn't undergone any training.\n",
    "\n",
    "* `torch.inference_mode()`\n",
    "\n",
    "Note: disables gradient tracking so we can make a prediction, newer version of `torch.no_grad`."
   ]
  },
  {
   "cell_type": "code",
   "execution_count": 380,
   "id": "0d5b9fad",
   "metadata": {},
   "outputs": [
    {
     "data": {
      "text/plain": [
       "tensor([[0.7119],\n",
       "        [0.7144],\n",
       "        [0.7169],\n",
       "        [0.7194],\n",
       "        [0.7220],\n",
       "        [0.7245],\n",
       "        [0.7270],\n",
       "        [0.7295],\n",
       "        [0.7321],\n",
       "        [0.7346]])"
      ]
     },
     "execution_count": 380,
     "metadata": {},
     "output_type": "execute_result"
    }
   ],
   "source": [
    "with torch.inference_mode():\n",
    "    y_predictions = model_0(X_test)\n",
    "\n",
    "y_predictions"
   ]
  },
  {
   "cell_type": "code",
   "execution_count": 381,
   "id": "1ca215ba",
   "metadata": {},
   "outputs": [
    {
     "data": {
      "image/png": "[encoded data removed]",
      "text/plain": [
       "<Figure size 1000x700 with 1 Axes>"
      ]
     },
     "metadata": {},
     "output_type": "display_data"
    }
   ],
   "source": [
    "plotPredictions(predictions=y_predictions)"
   ]
  },
  {
   "cell_type": "markdown",
   "id": "34155906",
   "metadata": {},
   "source": [
    "### Loss Functions and Optimizer"
   ]
  },
  {
   "cell_type": "code",
   "execution_count": 382,
   "id": "12e3b57a",
   "metadata": {},
   "outputs": [],
   "source": [
    "# Create Mean Absolute Error Loss Function\n",
    "MAE_loss = torch.nn.L1Loss()\n",
    "\n",
    "# Create Optimizer (Stochastic Gradient Descent), Learning Rate Hyperparameter\n",
    "optimizer = torch.optim.SGD(params=model_0.parameters(), lr=0.0015)"
   ]
  },
  {
   "cell_type": "markdown",
   "id": "9dec32dc",
   "metadata": {},
   "source": [
    "### Training Loop\n",
    "\n",
    "    a. forward propagation\n",
    "    b. calculate loss (forward prop. vs ground truth)\n",
    "    c. optimizer (set gradients to zero for every mini-batch)\n",
    "    d. backpropagation (new parameter gradient based on loss)\n",
    "    e. optimizer (gradient descent)"
   ]
  },
  {
   "cell_type": "code",
   "execution_count": 383,
   "id": "aa5f6ea3",
   "metadata": {},
   "outputs": [
    {
     "name": "stdout",
     "output_type": "stream",
     "text": [
      "Epoch: 0 | Test: 0.13126517832279205 | Test Loss: 0.20035092532634735\n",
      "Epoch: 200 | Test: 0.11089324951171875 | Test Loss: 0.24169103801250458\n",
      "Epoch: 400 | Test: 0.10009799897670746 | Test Loss: 0.2316441833972931\n",
      "Epoch: 600 | Test: 0.0897420197725296 | Test Loss: 0.20971441268920898\n",
      "Epoch: 800 | Test: 0.0794387012720108 | Test Loss: 0.18561792373657227\n",
      "Epoch: 1000 | Test: 0.069135382771492 | Test Loss: 0.16152140498161316\n",
      "Epoch: 1200 | Test: 0.058832306414842606 | Test Loss: 0.13747641444206238\n",
      "Epoch: 1400 | Test: 0.04852917417883873 | Test Loss: 0.11337991058826447\n",
      "Epoch: 1600 | Test: 0.038225527852773666 | Test Loss: 0.08923237025737762\n",
      "Epoch: 1800 | Test: 0.027922678738832474 | Test Loss: 0.06513817608356476\n",
      "Epoch: 2000 | Test: 0.01761982962489128 | Test Loss: 0.04104398563504219\n",
      "Epoch: 2200 | Test: 0.007317935116589069 | Test Loss: 0.017001289874315262\n",
      "Epoch: 2400 | Test: 0.0010490961140021682 | Test Loss: 0.0003683447721414268\n"
     ]
    }
   ],
   "source": [
    "# Build a training loop\n",
    "\n",
    "EPOCHS = 2500\n",
    "\n",
    "epoch_count = []\n",
    "loss_values = []\n",
    "test_loss_values = []\n",
    "\n",
    "# a. loop through data\n",
    "for epoch in range(EPOCHS):\n",
    "    # enable training mode and track gradients on valid parameters\n",
    "    model_0.train()  \n",
    "    \n",
    "    # a. forward propagation (our \"forward()\" method)\n",
    "    y_predictions = model_0(X_train)\n",
    "    \n",
    "    # b. calculate loss\n",
    "    loss = MAE_loss(y_predictions, y_train)\n",
    "    \n",
    "    # c. zero_grad optimizer (zero out the optimizer gradients)\n",
    "    optimizer.zero_grad()\n",
    "    \n",
    "    # d. back propagation on loss function (compute gradient for every parameter)\n",
    "    loss.backward()\n",
    "    \n",
    "    # e. gradient descent optimizer (update parameters with new gradients)\n",
    "    optimizer.step()\n",
    "    \n",
    "    # Testing\n",
    "    # turn off gradient tracking\n",
    "    model_0.eval()\n",
    "    with torch.inference_mode():\n",
    "        # forward pass\n",
    "        test_pred = model_0(X_test)\n",
    "        # loss pass\n",
    "        test_loss = MAE_loss(test_pred, y_test)\n",
    "    \n",
    "    # Let's print out our progress to see where we can make changes (learning rate, epoch count)\n",
    "    if epoch % 200 == 0:\n",
    "        epoch_count.append(epoch)\n",
    "        train_loss_values.append(loss)\n",
    "        test_loss_values.append(test_loss)\n",
    "        print(f\"Epoch: {epoch} | Test: {loss} | Test Loss: {test_loss}\")"
   ]
  },
  {
   "cell_type": "markdown",
   "id": "1abce3ec",
   "metadata": {},
   "source": [
    "Our model converges at around 2400 epochs with a learning rate of 0.0015, my intuition tells me that convergence in this scenario is hindered by the small dataset size, and we can tease a higher accuracy out of the small set by using a very small learning rate."
   ]
  },
  {
   "cell_type": "code",
   "execution_count": 384,
   "id": "6c442dec",
   "metadata": {},
   "outputs": [
    {
     "name": "stdout",
     "output_type": "stream",
     "text": [
      "Loss:0.0006790719926357269\n"
     ]
    }
   ],
   "source": [
    "print(f\"Loss:{loss}\")"
   ]
  },
  {
   "cell_type": "code",
   "execution_count": 385,
   "id": "2b33199d",
   "metadata": {},
   "outputs": [
    {
     "name": "stdout",
     "output_type": "stream",
     "text": [
      "OrderedDict([('weights', tensor([0.6988])), ('bias', tensor([0.2994]))])\n"
     ]
    }
   ],
   "source": [
    "print(model_0.state_dict())"
   ]
  },
  {
   "cell_type": "code",
   "execution_count": 386,
   "id": "9ff883f3",
   "metadata": {},
   "outputs": [
    {
     "data": {
      "image/png": "[encoded data removed]",
      "text/plain": [
       "<Figure size 1000x700 with 1 Axes>"
      ]
     },
     "metadata": {},
     "output_type": "display_data"
    }
   ],
   "source": [
    "with torch.inference_mode():\n",
    "    y_pred_new = model_0(X_test)\n",
    "    \n",
    "plotPredictions(predictions=y_pred_new)"
   ]
  },
  {
   "cell_type": "markdown",
   "id": "6c8929a4",
   "metadata": {},
   "source": [
    "Let's convert out tensor into a numpy array and see if we can represent this new data in a way that shows our progress."
   ]
  },
  {
   "cell_type": "code",
   "execution_count": 393,
   "id": "18783681",
   "metadata": {},
   "outputs": [
    {
     "data": {
      "text/plain": [
       "(array([], dtype=float32),\n",
       " [tensor(0.2004),\n",
       "  tensor(0.2417),\n",
       "  tensor(0.2316),\n",
       "  tensor(0.2097),\n",
       "  tensor(0.1856),\n",
       "  tensor(0.1615),\n",
       "  tensor(0.1375),\n",
       "  tensor(0.1134),\n",
       "  tensor(0.0892),\n",
       "  tensor(0.0651),\n",
       "  tensor(0.0410),\n",
       "  tensor(0.0170),\n",
       "  tensor(0.0004)])"
      ]
     },
     "execution_count": 393,
     "metadata": {},
     "output_type": "execute_result"
    }
   ],
   "source": [
    "np.array(torch.tensor(loss_values).numpy()), test_loss_values"
   ]
  },
  {
   "cell_type": "markdown",
   "id": "48f39cf7",
   "metadata": {},
   "source": [
    "## Saving and Loading Models\n",
    "\n",
    "1. `torch.save` - allows us to save the model as a pickle object. (serialized object)\n",
    "2. `torch.load` - allows us to load saved pickle objects\n",
    "3. `torch.nn.Module.load_state_dict()` - allows us to load the model's saved state"
   ]
  },
  {
   "cell_type": "code",
   "execution_count": 414,
   "id": "56bd6efc",
   "metadata": {},
   "outputs": [],
   "source": [
    "# Save Model\n",
    "from pathlib import Path\n",
    "model_path = Path(\"models\")\n",
    "model_path.mkdir(parents=True, exist_ok=True)\n",
    "model_name = \"01_pytorch_worflow_model_0.pth\"\n",
    "model_save_path = model_path / model_name\n",
    "\n",
    "torch.save(obj=model_0.state_dict(), f=model_save_path)"
   ]
  },
  {
   "cell_type": "code",
   "execution_count": 415,
   "id": "21afc1d1",
   "metadata": {},
   "outputs": [
    {
     "name": "stdout",
     "output_type": "stream",
     "text": [
      "total 4\r\n",
      "-rw-r--r--. 1 marthinus marthinus 1063 Aug 29 12:11 01_pytorch_worflow_model_0.pth\r\n"
     ]
    }
   ],
   "source": [
    "ls -l models/"
   ]
  },
  {
   "cell_type": "code",
   "execution_count": 406,
   "id": "2b194ef4",
   "metadata": {},
   "outputs": [
    {
     "data": {
      "text/plain": [
       "OrderedDict([('weights', tensor([0.6988])), ('bias', tensor([0.2994]))])"
      ]
     },
     "execution_count": 406,
     "metadata": {},
     "output_type": "execute_result"
    }
   ],
   "source": [
    "model_0.state_dict()"
   ]
  },
  {
   "cell_type": "markdown",
   "id": "84f1f377",
   "metadata": {},
   "source": [
    "Now that we've saved our model, let's try to load it into a new instance of our model class."
   ]
  },
  {
   "cell_type": "code",
   "execution_count": 416,
   "id": "45d5b373",
   "metadata": {},
   "outputs": [
    {
     "data": {
      "text/plain": [
       "OrderedDict([('weights', tensor([0.9884])), ('bias', tensor([-1.9667]))])"
      ]
     },
     "execution_count": 416,
     "metadata": {},
     "output_type": "execute_result"
    }
   ],
   "source": [
    "# Load Model\n",
    "\n",
    "# create new model class instance\n",
    "loaded_model_0 = BasicLinearRegressionModel()\n",
    "\n",
    "# Check the state of the model\n",
    "loaded_model_0.state_dict()"
   ]
  },
  {
   "cell_type": "markdown",
   "id": "0ac2ab03",
   "metadata": {},
   "source": [
    "Alright, we have a new model that's freshly instantiated and as you can see it's been populated with the default random values we seeded to it from our class. Let's load the state dictionary we saved into this new model."
   ]
  },
  {
   "cell_type": "code",
   "execution_count": 418,
   "id": "cde62892",
   "metadata": {},
   "outputs": [
    {
     "data": {
      "text/plain": [
       "<All keys matched successfully>"
      ]
     },
     "execution_count": 418,
     "metadata": {},
     "output_type": "execute_result"
    }
   ],
   "source": [
    "# load state_dict of model\n",
    "loaded_model_0.load_state_dict(torch.load(f=model_save_path))"
   ]
  },
  {
   "cell_type": "markdown",
   "id": "82f57768",
   "metadata": {},
   "source": [
    "If we now check the state of the new instance..."
   ]
  },
  {
   "cell_type": "code",
   "execution_count": 420,
   "id": "71801ac5",
   "metadata": {},
   "outputs": [
    {
     "data": {
      "text/plain": [
       "OrderedDict([('weights', tensor([0.6988])), ('bias', tensor([0.2994]))])"
      ]
     },
     "execution_count": 420,
     "metadata": {},
     "output_type": "execute_result"
    }
   ],
   "source": [
    "loaded_model_0.state_dict()"
   ]
  },
  {
   "cell_type": "code",
   "execution_count": 422,
   "id": "08025644",
   "metadata": {},
   "outputs": [
    {
     "data": {
      "text/plain": [
       "tensor([[0.8585],\n",
       "        [0.8724],\n",
       "        [0.8864],\n",
       "        [0.9004],\n",
       "        [0.9144],\n",
       "        [0.9283],\n",
       "        [0.9423],\n",
       "        [0.9563],\n",
       "        [0.9703],\n",
       "        [0.9842]])"
      ]
     },
     "execution_count": 422,
     "metadata": {},
     "output_type": "execute_result"
    }
   ],
   "source": [
    "# Set our model into an evaluation mode and make some predictions\n",
    "loaded_model_0.eval()\n",
    "with torch.inference_mode():\n",
    "    loaded_model_predictions = loaded_model_0(X_test)\n",
    "    \n",
    "loaded_model_predictions"
   ]
  },
  {
   "cell_type": "code",
   "execution_count": 423,
   "id": "f9d68ae5",
   "metadata": {},
   "outputs": [
    {
     "data": {
      "text/plain": [
       "tensor([[True],\n",
       "        [True],\n",
       "        [True],\n",
       "        [True],\n",
       "        [True],\n",
       "        [True],\n",
       "        [True],\n",
       "        [True],\n",
       "        [True],\n",
       "        [True]])"
      ]
     },
     "execution_count": 423,
     "metadata": {},
     "output_type": "execute_result"
    }
   ],
   "source": [
    "# Compare equivalence between previous predicitons to new predicitons\n",
    "y_pred_new == loaded_model_predictions"
   ]
  }
 ],
 "metadata": {
  "kernelspec": {
   "display_name": "Python 3 (ipykernel)",
   "language": "python",
   "name": "python3"
  },
  "language_info": {
   "codemirror_mode": {
    "name": "ipython",
    "version": 3
   },
   "file_extension": ".py",
   "mimetype": "text/x-python",
   "name": "python",
   "nbconvert_exporter": "python",
   "pygments_lexer": "ipython3",
   "version": "3.10.6"
  }
 },
 "nbformat": 4,
 "nbformat_minor": 5
}
