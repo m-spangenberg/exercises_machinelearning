{
 "cells": [
  {
   "cell_type": "markdown",
   "id": "cabd9dee",
   "metadata": {},
   "source": [
    "## Classification"
   ]
  },
  {
   "cell_type": "markdown",
   "id": "8bc66f34",
   "metadata": {},
   "source": [
    "### Binary Classification\n",
    "\n",
    "Let's generate a toy dataset, visualize the set, and build a learning model to perform binary classification."
   ]
  },
  {
   "cell_type": "code",
   "execution_count": 205,
   "id": "f9a87378",
   "metadata": {},
   "outputs": [],
   "source": [
    "import torch\n",
    "import sklearn\n",
    "import pandas as pd\n",
    "import matplotlib.pyplot as plt\n",
    "from sklearn.datasets import make_circles\n",
    "from sklearn.model_selection import train_test_split"
   ]
  },
  {
   "cell_type": "code",
   "execution_count": 206,
   "id": "3021390b",
   "metadata": {},
   "outputs": [
    {
     "data": {
      "text/plain": [
       "(1000, 1000)"
      ]
     },
     "execution_count": 206,
     "metadata": {},
     "output_type": "execute_result"
    }
   ],
   "source": [
    "# make 1000 samples\n",
    "n_samples = 1000\n",
    "\n",
    "# create 1000 features and labels\n",
    "X, y = make_circles(n_samples, noise=0.03, random_state=1234)\n",
    "\n",
    "len(X), len(y)"
   ]
  },
  {
   "cell_type": "code",
   "execution_count": 207,
   "id": "ac167238",
   "metadata": {},
   "outputs": [
    {
     "data": {
      "text/plain": [
       "(array([[-0.52776626,  0.61212075],\n",
       "        [ 0.75325126, -0.10500465],\n",
       "        [-0.34512841,  0.95759316],\n",
       "        [-0.75567598, -0.14225749],\n",
       "        [ 0.71738332, -0.69397855]]),\n",
       " array([1, 1, 0, 1, 0]))"
      ]
     },
     "execution_count": 207,
     "metadata": {},
     "output_type": "execute_result"
    }
   ],
   "source": [
    "# first 5 samples of X\n",
    "X[:5], y[:5]"
   ]
  },
  {
   "cell_type": "code",
   "execution_count": 208,
   "id": "5b177870",
   "metadata": {},
   "outputs": [
    {
     "data": {
      "text/html": [
       "<div>\n",
       "<style scoped>\n",
       "    .dataframe tbody tr th:only-of-type {\n",
       "        vertical-align: middle;\n",
       "    }\n",
       "\n",
       "    .dataframe tbody tr th {\n",
       "        vertical-align: top;\n",
       "    }\n",
       "\n",
       "    .dataframe thead th {\n",
       "        text-align: right;\n",
       "    }\n",
       "</style>\n",
       "<table border=\"1\" class=\"dataframe\">\n",
       "  <thead>\n",
       "    <tr style=\"text-align: right;\">\n",
       "      <th></th>\n",
       "      <th>X1</th>\n",
       "      <th>X2</th>\n",
       "      <th>label</th>\n",
       "    </tr>\n",
       "  </thead>\n",
       "  <tbody>\n",
       "    <tr>\n",
       "      <th>0</th>\n",
       "      <td>-0.527766</td>\n",
       "      <td>0.612121</td>\n",
       "      <td>1</td>\n",
       "    </tr>\n",
       "    <tr>\n",
       "      <th>1</th>\n",
       "      <td>0.753251</td>\n",
       "      <td>-0.105005</td>\n",
       "      <td>1</td>\n",
       "    </tr>\n",
       "    <tr>\n",
       "      <th>2</th>\n",
       "      <td>-0.345128</td>\n",
       "      <td>0.957593</td>\n",
       "      <td>0</td>\n",
       "    </tr>\n",
       "    <tr>\n",
       "      <th>3</th>\n",
       "      <td>-0.755676</td>\n",
       "      <td>-0.142257</td>\n",
       "      <td>1</td>\n",
       "    </tr>\n",
       "    <tr>\n",
       "      <th>4</th>\n",
       "      <td>0.717383</td>\n",
       "      <td>-0.693979</td>\n",
       "      <td>0</td>\n",
       "    </tr>\n",
       "    <tr>\n",
       "      <th>5</th>\n",
       "      <td>-0.119208</td>\n",
       "      <td>-0.987418</td>\n",
       "      <td>0</td>\n",
       "    </tr>\n",
       "    <tr>\n",
       "      <th>6</th>\n",
       "      <td>-0.523598</td>\n",
       "      <td>0.578420</td>\n",
       "      <td>1</td>\n",
       "    </tr>\n",
       "    <tr>\n",
       "      <th>7</th>\n",
       "      <td>0.601038</td>\n",
       "      <td>0.505682</td>\n",
       "      <td>1</td>\n",
       "    </tr>\n",
       "    <tr>\n",
       "      <th>8</th>\n",
       "      <td>0.008148</td>\n",
       "      <td>0.753410</td>\n",
       "      <td>1</td>\n",
       "    </tr>\n",
       "    <tr>\n",
       "      <th>9</th>\n",
       "      <td>0.261648</td>\n",
       "      <td>0.949329</td>\n",
       "      <td>0</td>\n",
       "    </tr>\n",
       "  </tbody>\n",
       "</table>\n",
       "</div>"
      ],
      "text/plain": [
       "         X1        X2  label\n",
       "0 -0.527766  0.612121      1\n",
       "1  0.753251 -0.105005      1\n",
       "2 -0.345128  0.957593      0\n",
       "3 -0.755676 -0.142257      1\n",
       "4  0.717383 -0.693979      0\n",
       "5 -0.119208 -0.987418      0\n",
       "6 -0.523598  0.578420      1\n",
       "7  0.601038  0.505682      1\n",
       "8  0.008148  0.753410      1\n",
       "9  0.261648  0.949329      0"
      ]
     },
     "execution_count": 208,
     "metadata": {},
     "output_type": "execute_result"
    }
   ],
   "source": [
    "# create a pandas dataframe\n",
    "circles = pd.DataFrame({\"X1\": X[: ,0], \"X2\": X[: ,1], \"label\": y})\n",
    "\n",
    "# display the first ten rows in the dataframe\n",
    "circles.head(10)"
   ]
  },
  {
   "cell_type": "code",
   "execution_count": 209,
   "id": "b5a203f0",
   "metadata": {},
   "outputs": [
    {
     "data": {
      "text/plain": [
       "<matplotlib.collections.PathCollection at 0x7f679c8eeb90>"
      ]
     },
     "execution_count": 209,
     "metadata": {},
     "output_type": "execute_result"
    },
    {
     "data": {
      "image/png": "[encoded data removed]",
      "text/plain": [
       "<Figure size 640x480 with 1 Axes>"
      ]
     },
     "metadata": {},
     "output_type": "display_data"
    }
   ],
   "source": [
    "plt.scatter(x=X[: ,0], y=X[: ,1], c=y, cmap=plt.cm.RdYlBu)"
   ]
  },
  {
   "cell_type": "code",
   "execution_count": 210,
   "id": "99edf416",
   "metadata": {},
   "outputs": [
    {
     "data": {
      "text/plain": [
       "numpy.ndarray"
      ]
     },
     "execution_count": 210,
     "metadata": {},
     "output_type": "execute_result"
    }
   ],
   "source": [
    "type(X)"
   ]
  },
  {
   "cell_type": "code",
   "execution_count": 211,
   "id": "2d6fd1d2",
   "metadata": {},
   "outputs": [],
   "source": [
    "# turn data into torch tensors (not float64, or we might get errors later)\n",
    "X = torch.from_numpy(X).type(torch.float)\n",
    "y = torch.from_numpy(y).type(torch.float)"
   ]
  },
  {
   "cell_type": "code",
   "execution_count": 212,
   "id": "5cd72e0f",
   "metadata": {},
   "outputs": [
    {
     "data": {
      "text/plain": [
       "torch.Tensor"
      ]
     },
     "execution_count": 212,
     "metadata": {},
     "output_type": "execute_result"
    }
   ],
   "source": [
    "type(X)"
   ]
  },
  {
   "cell_type": "code",
   "execution_count": 213,
   "id": "b9e52ca7",
   "metadata": {},
   "outputs": [],
   "source": [
    "# partition data into training-test subsets with the help of sklearn\n",
    "training_features, test_features, training_labels, test_labels = train_test_split(X, y, test_size=0.2)"
   ]
  },
  {
   "cell_type": "code",
   "execution_count": 214,
   "id": "ac11b098",
   "metadata": {},
   "outputs": [
    {
     "data": {
      "text/plain": [
       "(torch.Size([800, 2]), torch.Size([200, 2]))"
      ]
     },
     "execution_count": 214,
     "metadata": {},
     "output_type": "execute_result"
    }
   ],
   "source": [
    "# check our random partitioning\n",
    "training_features.shape, test_features.shape"
   ]
  },
  {
   "cell_type": "code",
   "execution_count": 215,
   "id": "6e3e024c",
   "metadata": {},
   "outputs": [],
   "source": [
    "# autodetect GPU\n",
    "device = \"cuda\" if torch.cuda.is_available() else \"cpu\""
   ]
  },
  {
   "cell_type": "code",
   "execution_count": 216,
   "id": "f6db8231",
   "metadata": {},
   "outputs": [],
   "source": [
    "# construct a class with `nn.Module` as a subclass\n",
    "class CircleModel(torch.nn.Module):\n",
    "    def __init__(self):\n",
    "        super().__init__()\n",
    "        \n",
    "        # Add two nn.Linear layers\n",
    "        # upscales input 2 to output 8, out_features must match in_features in stacked layers\n",
    "        self.layer_1 = torch.nn.Linear(in_features=2, out_features=8)\n",
    "        # out_feature here is our desired output (remember binary classification rules)\n",
    "        self.layer_2 = torch.nn.Linear(in_features=8, out_features=1)\n",
    "        \n",
    "    # our forward pass method\n",
    "    def forward(self, x):\n",
    "        return self.layer_2(self.layer_1(x))"
   ]
  },
  {
   "cell_type": "code",
   "execution_count": 217,
   "id": "57ba43db",
   "metadata": {},
   "outputs": [],
   "source": [
    "model_0 = CircleModel().to(device)"
   ]
  },
  {
   "cell_type": "code",
   "execution_count": 218,
   "id": "a03bc810",
   "metadata": {},
   "outputs": [],
   "source": [
    "# replicate the above model with `nn.Sequential`\n",
    "model = torch.nn.Sequential(\n",
    "    torch.nn.Linear(in_features=2, out_features=8),\n",
    "    torch.nn.Linear(in_features=8, out_features=1)\n",
    ")\n",
    "\n",
    "# when we have more complex operations, it's important to know how to build our own classes to leverage `nn.Module`"
   ]
  },
  {
   "cell_type": "code",
   "execution_count": 219,
   "id": "43e6b6b1",
   "metadata": {},
   "outputs": [
    {
     "data": {
      "text/plain": [
       "OrderedDict([('layer_1.weight',\n",
       "              tensor([[ 0.0459,  0.0343],\n",
       "                      [-0.2555,  0.3295],\n",
       "                      [ 0.6661, -0.0968],\n",
       "                      [ 0.4770,  0.5604],\n",
       "                      [-0.6422, -0.0892],\n",
       "                      [ 0.5608, -0.1873],\n",
       "                      [-0.3413, -0.2027],\n",
       "                      [-0.3344, -0.5100]], device='cuda:0')),\n",
       "             ('layer_1.bias',\n",
       "              tensor([-0.5605, -0.1310, -0.0732, -0.4773, -0.6050,  0.1852,  0.1495, -0.1835],\n",
       "                     device='cuda:0')),\n",
       "             ('layer_2.weight',\n",
       "              tensor([[ 0.3029,  0.3039,  0.2382, -0.2967,  0.3330, -0.1909, -0.2761, -0.3230]],\n",
       "                     device='cuda:0')),\n",
       "             ('layer_2.bias', tensor([0.0116], device='cuda:0'))])"
      ]
     },
     "execution_count": 219,
     "metadata": {},
     "output_type": "execute_result"
    }
   ],
   "source": [
    "model_0.state_dict()"
   ]
  },
  {
   "cell_type": "code",
   "execution_count": 220,
   "id": "c264f458",
   "metadata": {},
   "outputs": [
    {
     "name": "stdout",
     "output_type": "stream",
     "text": [
      "Length of Predictions: 200, Shape: torch.Size([200, 1])\n",
      "Length of Samples: 200, Shape: torch.Size([200, 2])\n"
     ]
    }
   ],
   "source": [
    "# disable gradient tracking\n",
    "with torch.inference_mode():    \n",
    "    # make some predictions\n",
    "    untrained_predictions = model_0(test_features.to(device))\n",
    "    print(f\"Length of Predictions: {len(untrained_predictions)}, Shape: {untrained_predictions.shape}\")\n",
    "    print(f\"Length of Samples: {len(test_features)}, Shape: {test_features.shape}\")"
   ]
  },
  {
   "cell_type": "code",
   "execution_count": 236,
   "id": "d3df6530",
   "metadata": {},
   "outputs": [],
   "source": [
    "# Binary Cross Entropy (BCE) loss function and optimizer\n",
    "loss_sigmoid = torch.nn.Sigmoid()\n",
    "loss_fn = torch.nn.BCELoss()\n",
    "optimizer = torch.optim.SGD(params=model_0.parameters(),lr=0.1)\n",
    "\n",
    "# calculate accuracy\n",
    "def accuracyCheck(label_true, label_predicted):\n",
    "    correct = torch.eq(label_true, label_predicted).sum().item()\n",
    "    accuracy = (correct/len(label_predicted)) * 100\n",
    "    return accuracy\n",
    "\n",
    "# set a manual seed for CUDA device\n",
    "torch.cuda.manual_seed(1234)\n",
    "\n",
    "# set number of Epochs\n",
    "epochs = 100\n",
    "\n",
    "# put all data on device\n",
    "training_features, training_labels = training_features.to(device), training_labels.to(device)\n",
    "test_features, test_labels = test_features.to(device), test_labels.to(device)"
   ]
  },
  {
   "cell_type": "code",
   "execution_count": 243,
   "id": "65fd9377",
   "metadata": {},
   "outputs": [
    {
     "ename": "RuntimeError",
     "evalue": "Trying to backward through the graph a second time (or directly access saved tensors after they have already been freed). Saved intermediate values of the graph are freed when you call .backward() or autograd.grad(). Specify retain_graph=True if you need to backward through the graph a second time or if you need to access saved tensors after calling backward.",
     "output_type": "error",
     "traceback": [
      "\u001b[0;31m---------------------------------------------------------------------------\u001b[0m",
      "\u001b[0;31mRuntimeError\u001b[0m                              Traceback (most recent call last)",
      "Input \u001b[0;32mIn [243]\u001b[0m, in \u001b[0;36m<cell line: 2>\u001b[0;34m()\u001b[0m\n\u001b[1;32m     13\u001b[0m optimizer\u001b[38;5;241m.\u001b[39mzero_grad()\n\u001b[1;32m     15\u001b[0m \u001b[38;5;66;03m# backprop loss\u001b[39;00m\n\u001b[0;32m---> 16\u001b[0m \u001b[43mloss\u001b[49m\u001b[38;5;241;43m.\u001b[39;49m\u001b[43mbackward\u001b[49m\u001b[43m(\u001b[49m\u001b[43m)\u001b[49m\n\u001b[1;32m     18\u001b[0m \u001b[38;5;66;03m# TESTING\u001b[39;00m\n\u001b[1;32m     19\u001b[0m model_0\u001b[38;5;241m.\u001b[39meval()\n",
      "File \u001b[0;32m~/.local/share/virtualenvs/machinelearning-cPHCBFOy/lib64/python3.10/site-packages/torch/_tensor.py:396\u001b[0m, in \u001b[0;36mTensor.backward\u001b[0;34m(self, gradient, retain_graph, create_graph, inputs)\u001b[0m\n\u001b[1;32m    387\u001b[0m \u001b[38;5;28;01mif\u001b[39;00m has_torch_function_unary(\u001b[38;5;28mself\u001b[39m):\n\u001b[1;32m    388\u001b[0m     \u001b[38;5;28;01mreturn\u001b[39;00m handle_torch_function(\n\u001b[1;32m    389\u001b[0m         Tensor\u001b[38;5;241m.\u001b[39mbackward,\n\u001b[1;32m    390\u001b[0m         (\u001b[38;5;28mself\u001b[39m,),\n\u001b[0;32m   (...)\u001b[0m\n\u001b[1;32m    394\u001b[0m         create_graph\u001b[38;5;241m=\u001b[39mcreate_graph,\n\u001b[1;32m    395\u001b[0m         inputs\u001b[38;5;241m=\u001b[39minputs)\n\u001b[0;32m--> 396\u001b[0m \u001b[43mtorch\u001b[49m\u001b[38;5;241;43m.\u001b[39;49m\u001b[43mautograd\u001b[49m\u001b[38;5;241;43m.\u001b[39;49m\u001b[43mbackward\u001b[49m\u001b[43m(\u001b[49m\u001b[38;5;28;43mself\u001b[39;49m\u001b[43m,\u001b[49m\u001b[43m \u001b[49m\u001b[43mgradient\u001b[49m\u001b[43m,\u001b[49m\u001b[43m \u001b[49m\u001b[43mretain_graph\u001b[49m\u001b[43m,\u001b[49m\u001b[43m \u001b[49m\u001b[43mcreate_graph\u001b[49m\u001b[43m,\u001b[49m\u001b[43m \u001b[49m\u001b[43minputs\u001b[49m\u001b[38;5;241;43m=\u001b[39;49m\u001b[43minputs\u001b[49m\u001b[43m)\u001b[49m\n",
      "File \u001b[0;32m~/.local/share/virtualenvs/machinelearning-cPHCBFOy/lib64/python3.10/site-packages/torch/autograd/__init__.py:173\u001b[0m, in \u001b[0;36mbackward\u001b[0;34m(tensors, grad_tensors, retain_graph, create_graph, grad_variables, inputs)\u001b[0m\n\u001b[1;32m    168\u001b[0m     retain_graph \u001b[38;5;241m=\u001b[39m create_graph\n\u001b[1;32m    170\u001b[0m \u001b[38;5;66;03m# The reason we repeat same the comment below is that\u001b[39;00m\n\u001b[1;32m    171\u001b[0m \u001b[38;5;66;03m# some Python versions print out the first line of a multi-line function\u001b[39;00m\n\u001b[1;32m    172\u001b[0m \u001b[38;5;66;03m# calls in the traceback and some print out the last line\u001b[39;00m\n\u001b[0;32m--> 173\u001b[0m \u001b[43mVariable\u001b[49m\u001b[38;5;241;43m.\u001b[39;49m\u001b[43m_execution_engine\u001b[49m\u001b[38;5;241;43m.\u001b[39;49m\u001b[43mrun_backward\u001b[49m\u001b[43m(\u001b[49m\u001b[43m  \u001b[49m\u001b[38;5;66;43;03m# Calls into the C++ engine to run the backward pass\u001b[39;49;00m\n\u001b[1;32m    174\u001b[0m \u001b[43m    \u001b[49m\u001b[43mtensors\u001b[49m\u001b[43m,\u001b[49m\u001b[43m \u001b[49m\u001b[43mgrad_tensors_\u001b[49m\u001b[43m,\u001b[49m\u001b[43m \u001b[49m\u001b[43mretain_graph\u001b[49m\u001b[43m,\u001b[49m\u001b[43m \u001b[49m\u001b[43mcreate_graph\u001b[49m\u001b[43m,\u001b[49m\u001b[43m \u001b[49m\u001b[43minputs\u001b[49m\u001b[43m,\u001b[49m\n\u001b[1;32m    175\u001b[0m \u001b[43m    \u001b[49m\u001b[43mallow_unreachable\u001b[49m\u001b[38;5;241;43m=\u001b[39;49m\u001b[38;5;28;43;01mTrue\u001b[39;49;00m\u001b[43m,\u001b[49m\u001b[43m \u001b[49m\u001b[43maccumulate_grad\u001b[49m\u001b[38;5;241;43m=\u001b[39;49m\u001b[38;5;28;43;01mTrue\u001b[39;49;00m\u001b[43m)\u001b[49m\n",
      "\u001b[0;31mRuntimeError\u001b[0m: Trying to backward through the graph a second time (or directly access saved tensors after they have already been freed). Saved intermediate values of the graph are freed when you call .backward() or autograd.grad(). Specify retain_graph=True if you need to backward through the graph a second time or if you need to access saved tensors after calling backward."
     ]
    }
   ],
   "source": [
    "# build training and evaluation loop\n",
    "for epoch in range(epochs):\n",
    "    # TRAINING\n",
    "    model_0.train()\n",
    "    \n",
    "    # forward pass\n",
    "    feature_prediction = model_0(training_features).squeeze()\n",
    "    \n",
    "    # calculate training loss\n",
    "    loss = loss_fn(loss_sigmoid(feature_prediction), label_predictions)\n",
    "    \n",
    "    # optimizer zero-grad\n",
    "    optimizer.zero_grad()\n",
    "    \n",
    "    # backprop loss\n",
    "    loss.backward()\n",
    "    \n",
    "    # TESTING\n",
    "    model_0.eval()\n",
    "    with torch.inference_mode():\n",
    "        # forward pass\n",
    "        test_prediction = torch.round(model_0(test_features.squeeze()))\n",
    "        \n",
    "        # calculate test loss\n",
    "        test_loss = loss_fn(test_labels)\n",
    "    \n",
    "    # PRINTOUT\n",
    "    if epoch % 10 == 0:\n",
    "        print(f\"Epoch: {epoch} | Loss: {loss:.5f} | Test Loss:{test_loss:.5f}\")"
   ]
  },
  {
   "cell_type": "code",
   "execution_count": null,
   "id": "e9c73a83",
   "metadata": {},
   "outputs": [],
   "source": []
  }
 ],
 "metadata": {
  "kernelspec": {
   "display_name": "Python 3 (ipykernel)",
   "language": "python",
   "name": "python3"
  },
  "language_info": {
   "codemirror_mode": {
    "name": "ipython",
    "version": 3
   },
   "file_extension": ".py",
   "mimetype": "text/x-python",
   "name": "python",
   "nbconvert_exporter": "python",
   "pygments_lexer": "ipython3",
   "version": "3.10.6"
  }
 },
 "nbformat": 4,
 "nbformat_minor": 5
}
