{
 "cells": [
  {
   "cell_type": "markdown",
   "id": "612bec8c",
   "metadata": {},
   "source": [
    "# Deploying Models with Gradio\n",
    "\n",
    "Trainign models is all good and well, but what's the use if no one can access our work? Let's train a image classifier to distinguish between two classes of objects and present that functionality with the help of Gradio."
   ]
  }
 ],
 "metadata": {
  "kernelspec": {
   "display_name": "Python 3 (ipykernel)",
   "language": "python",
   "name": "python3"
  },
  "language_info": {
   "codemirror_mode": {
    "name": "ipython",
    "version": 3
   },
   "file_extension": ".py",
   "mimetype": "text/x-python",
   "name": "python",
   "nbconvert_exporter": "python",
   "pygments_lexer": "ipython3",
   "version": "3.10.6"
  }
 },
 "nbformat": 4,
 "nbformat_minor": 5
}
